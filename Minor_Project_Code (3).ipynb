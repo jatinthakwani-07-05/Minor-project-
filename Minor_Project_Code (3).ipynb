{
  "nbformat": 4,
  "nbformat_minor": 0,
  "metadata": {
    "colab": {
      "name": "Minor Project Code.ipynb",
      "provenance": [],
      "collapsed_sections": []
    },
    "kernelspec": {
      "name": "python3",
      "display_name": "Python 3"
    },
    "language_info": {
      "name": "python"
    },
    "accelerator": "GPU"
  },
  "cells": [
    {
      "cell_type": "code",
      "metadata": {
        "id": "MhoUPIzQ9-K6"
      },
      "source": [
        "!pip install librosa"
      ],
      "execution_count": null,
      "outputs": []
    },
    {
      "cell_type": "code",
      "metadata": {
        "id": "2bVcZ0EU_LoE"
      },
      "source": [
        "import matplotlib.pyplot as plt\n",
        "%matplotlib inline"
      ],
      "execution_count": null,
      "outputs": []
    },
    {
      "cell_type": "code",
      "metadata": {
        "id": "T7g6sUQr_mkj"
      },
      "source": [
        "import librosa\n",
        "import librosa.display\n",
        "import IPython.display as ipd"
      ],
      "execution_count": 13,
      "outputs": []
    },
    {
      "cell_type": "code",
      "metadata": {
        "id": "47Av3MQEC4zR",
        "colab": {
          "base_uri": "https://localhost:8080/"
        },
        "outputId": "292f5352-90ff-44ca-cb07-d4b553a1615d"
      },
      "source": [
        "import pandas as pd\n",
        "import numpy as np\n",
        "from tqdm import tqdm\n",
        "\n",
        "metadata = pd.read_csv(\"/content/drive/MyDrive/Minor Project/UrbanSound8K/metadata/UrbanSound8K.csv\")\n",
        "print(metadata)"
      ],
      "execution_count": 16,
      "outputs": [
        {
          "output_type": "stream",
          "name": "stdout",
          "text": [
            "         slice_file_name    fsID       start         end  salience  fold  \\\n",
            "0       100032-3-0-0.wav  100032    0.000000    0.317551         1     5   \n",
            "1     100263-2-0-117.wav  100263   58.500000   62.500000         1     5   \n",
            "2     100263-2-0-121.wav  100263   60.500000   64.500000         1     5   \n",
            "3     100263-2-0-126.wav  100263   63.000000   67.000000         1     5   \n",
            "4     100263-2-0-137.wav  100263   68.500000   72.500000         1     5   \n",
            "...                  ...     ...         ...         ...       ...   ...   \n",
            "8727     99812-1-2-0.wav   99812  159.522205  163.522205         2     7   \n",
            "8728     99812-1-3-0.wav   99812  181.142431  183.284976         2     7   \n",
            "8729     99812-1-4-0.wav   99812  242.691902  246.197885         2     7   \n",
            "8730     99812-1-5-0.wav   99812  253.209850  255.741948         2     7   \n",
            "8731     99812-1-6-0.wav   99812  332.289233  334.821332         2     7   \n",
            "\n",
            "      classID             class  \n",
            "0           3          dog_bark  \n",
            "1           2  children_playing  \n",
            "2           2  children_playing  \n",
            "3           2  children_playing  \n",
            "4           2  children_playing  \n",
            "...       ...               ...  \n",
            "8727        1          car_horn  \n",
            "8728        1          car_horn  \n",
            "8729        1          car_horn  \n",
            "8730        1          car_horn  \n",
            "8731        1          car_horn  \n",
            "\n",
            "[8732 rows x 8 columns]\n"
          ]
        }
      ]
    },
    {
      "cell_type": "code",
      "metadata": {
        "id": "6EKRFrGoIKgm"
      },
      "source": [
        "\n",
        "def features_extractor(file):\n",
        "  data,sr = librosa.load(filename , res_type='kaiser_fast')\n",
        "  mfccs_features = librosa.feature.mfcc(y = data , sr=sr , n_mfcc=40)\n",
        "  mfccs_scaled_features = np.mean(mfccs_features.T,axis=0)\n",
        "  return mfccs_scaled_features\n",
        "\n"
      ],
      "execution_count": 10,
      "outputs": []
    },
    {
      "cell_type": "code",
      "metadata": {
        "id": "Gus1sM67KkyO"
      },
      "source": [
        "import numpy as np \n",
        "import os as os\n",
        "from tqdm import tqdm\n",
        "extracted_features = []\n",
        "for index_num,row in tqdm(metadata.iterrows()):\n",
        "  filename = os.path.join(os.path.abspath(\"/content/drive/MyDrive/Minor Project/UrbanSound8K/audio/\"),'fold'+str(row[\"fold\"])+'/',str(row[\"slice_file_name\"]))\n",
        "  final_class_labels= row[\"class\"]\n",
        "  data=features_extractor(filename)\n",
        "  extracted_features.append([data,final_class_labels])\n",
        "\n"
      ],
      "execution_count": null,
      "outputs": []
    },
    {
      "cell_type": "code",
      "metadata": {
        "id": "MBdAeATLNnRr"
      },
      "source": [
        "Data = pd.DataFrame(extracted_features,columns=[\"Features\",\"Class\"])\n",
        "Features = np.array(Data[\"Features\"].tolist())\n",
        "\n",
        "Class = np.array(Data[\"Class\"].tolist())\n",
        "print(Features)\n",
        "\n",
        "print(Class)"
      ],
      "execution_count": null,
      "outputs": []
    },
    {
      "cell_type": "code",
      "metadata": {
        "id": "nM-uVZCuN0ya"
      },
      "source": [
        "Class_ = pd.get_dummies(Class)"
      ],
      "execution_count": null,
      "outputs": []
    },
    {
      "cell_type": "code",
      "metadata": {
        "id": "Xk_KUweEN3fp"
      },
      "source": [
        "from sklearn.model_selection import train_test_split\n",
        "X_train,X_test,y_train,y_test = train_test_split(Features,Class_,train_size=0.2,random_state=0)"
      ],
      "execution_count": null,
      "outputs": []
    },
    {
      "cell_type": "markdown",
      "source": [
        "## Neural Architecture"
      ],
      "metadata": {
        "id": "Tlt3OMjzDCis"
      }
    },
    {
      "cell_type": "code",
      "source": [
        "import tensorflow as tf \n",
        "from tensorflow import keras\n",
        "from tensorflow.keras.models import Sequential\n",
        "from tensorflow.keras.layers import Dense,Dropout,Activation,Flatten\n",
        "from tensorflow.keras.optimizers import Adam\n",
        "from sklearn import metrics"
      ],
      "metadata": {
        "id": "vv3zXYs8OotR"
      },
      "execution_count": 3,
      "outputs": []
    },
    {
      "cell_type": "code",
      "source": [
        "!pip install keras-tuner"
      ],
      "metadata": {
        "id": "ivSZwVNUzHrM"
      },
      "execution_count": null,
      "outputs": []
    },
    {
      "cell_type": "code",
      "source": [
        "Model =tf.keras.models.load_model(\"/content/drive/MyDrive/Minor Project/Saved Model\")"
      ],
      "metadata": {
        "id": "QFOkDiuMg6jh"
      },
      "execution_count": 4,
      "outputs": []
    },
    {
      "cell_type": "code",
      "source": [
        "model = Sequential()\n",
        "model.add(Dense(100,input_shape=(40,)))\n",
        "model.add(Activation('relu'))\n",
        "model.add(Dropout(0.5))\n",
        "\n",
        "model.add(Dense(200))\n",
        "model.add(Activation('relu'))\n",
        "model.add(Dropout(0.5))\n",
        "\n",
        "model.add(Dense(100))\n",
        "model.add(Activation('relu'))\n",
        "model.add(Dropout(0.5))\n",
        "\n",
        "model.add(Dense(10))\n",
        "model.add(Activation('softmax'))"
      ],
      "metadata": {
        "id": "ez2w8-MLP8wQ"
      },
      "execution_count": null,
      "outputs": []
    },
    {
      "cell_type": "code",
      "source": [
        "Model.summary()"
      ],
      "metadata": {
        "colab": {
          "base_uri": "https://localhost:8080/"
        },
        "id": "h_ZDcU_uRHVj",
        "outputId": "f860c253-0420-4ea5-c381-864d0a06d0b7"
      },
      "execution_count": null,
      "outputs": [
        {
          "output_type": "stream",
          "name": "stdout",
          "text": [
            "Model: \"sequential_2\"\n",
            "_________________________________________________________________\n",
            " Layer (type)                Output Shape              Param #   \n",
            "=================================================================\n",
            " dense_8 (Dense)             (None, 100)               4100      \n",
            "                                                                 \n",
            " activation_8 (Activation)   (None, 100)               0         \n",
            "                                                                 \n",
            " dropout_6 (Dropout)         (None, 100)               0         \n",
            "                                                                 \n",
            " dense_9 (Dense)             (None, 200)               20200     \n",
            "                                                                 \n",
            " activation_9 (Activation)   (None, 200)               0         \n",
            "                                                                 \n",
            " dropout_7 (Dropout)         (None, 200)               0         \n",
            "                                                                 \n",
            " dense_10 (Dense)            (None, 100)               20100     \n",
            "                                                                 \n",
            " activation_10 (Activation)  (None, 100)               0         \n",
            "                                                                 \n",
            " dropout_8 (Dropout)         (None, 100)               0         \n",
            "                                                                 \n",
            " dense_11 (Dense)            (None, 10)                1010      \n",
            "                                                                 \n",
            " activation_11 (Activation)  (None, 10)                0         \n",
            "                                                                 \n",
            "=================================================================\n",
            "Total params: 45,410\n",
            "Trainable params: 45,410\n",
            "Non-trainable params: 0\n",
            "_________________________________________________________________\n"
          ]
        }
      ]
    },
    {
      "cell_type": "code",
      "source": [
        "model.compile(loss='categorical_crossentropy',metrics=['accuracy'],optimizer='adam')\n",
        "## Trianing my model\n",
        "from tensorflow.keras.callbacks import ModelCheckpoint\n",
        "from datetime import datetime \n",
        "\n",
        "num_epochs = 110\n",
        "num_batch_size = 16\n",
        "\n",
        "checkpointer = ModelCheckpoint(filepath='saved_models/audio_classification.hdf5', \n",
        "                               verbose=1, save_best_only=True)\n",
        "start = datetime.now()\n",
        "\n",
        "model.fit(X_train, y_train, batch_size=num_batch_size, epochs=num_epochs, validation_data=(X_test, y_test), callbacks=[checkpointer], verbose=1)\n",
        "\n",
        "\n",
        "duration = datetime.now() - start\n",
        "print(\"Training completed in time: \", duration)"
      ],
      "metadata": {
        "id": "dpEQ5edxRJtu"
      },
      "execution_count": null,
      "outputs": []
    },
    {
      "cell_type": "code",
      "source": [
        "test_accuracy=model.evaluate(X_test,y_test,verbose=0)\n",
        "print(test_accuracy[1])"
      ],
      "metadata": {
        "colab": {
          "base_uri": "https://localhost:8080/"
        },
        "id": "OzH3eZYSSKzK",
        "outputId": "55856087-1bb8-44de-e3b5-3c3b743ecd0f"
      },
      "execution_count": null,
      "outputs": [
        {
          "output_type": "stream",
          "name": "stdout",
          "text": [
            "0.7409104108810425\n"
          ]
        }
      ]
    },
    {
      "cell_type": "code",
      "source": [
        "model.save(\"/content/drive/MyDrive/Minor Project/Saved Model/\")"
      ],
      "metadata": {
        "id": "9RYjQasqSL1h"
      },
      "execution_count": null,
      "outputs": []
    },
    {
      "cell_type": "code",
      "source": [
        ""
      ],
      "metadata": {
        "id": "Yd8lkEfEBYLO"
      },
      "execution_count": null,
      "outputs": []
    },
    {
      "cell_type": "markdown",
      "source": [
        "Model Saved using joblib"
      ],
      "metadata": {
        "id": "m8RRYJXPBinL"
      }
    },
    {
      "cell_type": "code",
      "source": [
        "from joblib import dump\n",
        "dump(Model,'Model_jb.joblib')"
      ],
      "metadata": {
        "colab": {
          "base_uri": "https://localhost:8080/"
        },
        "id": "rPllMxbZBmcc",
        "outputId": "0a5a83b5-2957-4c85-dad7-19aae0f48633"
      },
      "execution_count": 5,
      "outputs": [
        {
          "output_type": "stream",
          "name": "stdout",
          "text": [
            "INFO:tensorflow:Assets written to: ram://a1e84544-610f-4789-b4ed-42226c9cc06e/assets\n"
          ]
        },
        {
          "output_type": "execute_result",
          "data": {
            "text/plain": [
              "['Model_jb.joblib']"
            ]
          },
          "metadata": {},
          "execution_count": 5
        }
      ]
    },
    {
      "cell_type": "code",
      "source": [
        "from joblib import load\n",
        "model_joblib = load('Model_jb.joblib') "
      ],
      "metadata": {
        "id": "HLGPvcwgB3zS"
      },
      "execution_count": 7,
      "outputs": []
    },
    {
      "cell_type": "markdown",
      "source": [
        "Model Saved Using Pickle"
      ],
      "metadata": {
        "id": "w0vc8kgbTGkd"
      }
    },
    {
      "cell_type": "code",
      "source": [
        "import pickle\n",
        "pickle.dump(Model,open(\"model.pkl\",\"wb\"))"
      ],
      "metadata": {
        "colab": {
          "base_uri": "https://localhost:8080/"
        },
        "id": "7jTBlTNNTL4D",
        "outputId": "9f0ca1d9-f7a4-4a7d-a241-9b0040ce6d35"
      },
      "execution_count": null,
      "outputs": [
        {
          "output_type": "stream",
          "name": "stdout",
          "text": [
            "INFO:tensorflow:Assets written to: ram://9bdf0752-46de-4aef-bd2e-6b66e99ff581/assets\n"
          ]
        }
      ]
    },
    {
      "cell_type": "code",
      "source": [
        "model.save(\"C:\\Users\\Anonymous\\Documents\")"
      ],
      "metadata": {
        "id": "yRA-8bGEzU89"
      },
      "execution_count": null,
      "outputs": []
    },
    {
      "cell_type": "code",
      "source": [
        "import pickle\n",
        "model_pickel = pickle.load(open('/content/model.pkl','rb'))"
      ],
      "metadata": {
        "id": "t2TfngEwHSqg"
      },
      "execution_count": null,
      "outputs": []
    },
    {
      "cell_type": "markdown",
      "source": [
        "## Prediction "
      ],
      "metadata": {
        "id": "9bmYyqEHCyZd"
      }
    },
    {
      "cell_type": "code",
      "source": [
        "classes = {1:\"Car horn\",2:\"Children Playing\",3:\"Dog Bark\",4 : \"drilling\",5 : \"engine_idling\",6 : \"gun_shot\",7 :\"jackhammer\",8:\"siren\",9 : \"street_music\"}\n",
        "def features_extractor(file):\n",
        "  data,sr = librosa.load(filename , res_type='kaiser_fast')\n",
        "  mfccs_features = librosa.feature.mfcc(y = data , sr=sr , n_mfcc=40)\n",
        "  mfccs_scaled_features = np.mean(mfccs_features.T,axis=0)\n",
        "  return mfccs_scaled_features\n",
        "\n",
        "def Predict_classes(filename):\n",
        "  classes = {1:\"Car horn\",2:\"Children Playing\",3:\"Dog Bark\",4 : \"drilling\",5 : \"engine_idling\",6 : \"gun_shot\",7 :\"jackhammer\",8:\"siren\",9 : \"street_music\"}\n",
        "  prediction_feature=features_extractor(filename)\n",
        "  prediction_feature =prediction_feature.reshape(1,-1)\n",
        "  prediction = model_joblib.predict(prediction_feature)\n",
        "  class_ =np.where(prediction == np.max(prediction))[1]\n",
        "  return classes[int(class_)]\n"
      ],
      "metadata": {
        "id": "fGOlL-XJNNah"
      },
      "execution_count": 18,
      "outputs": []
    },
    {
      "cell_type": "code",
      "source": [
        "filename=\"/content/drive/MyDrive/Minor Project/UrbanSound8K/audio/fold7/99812-1-6-0.wav\"\n",
        "Predict_classes(filename)"
      ],
      "metadata": {
        "colab": {
          "base_uri": "https://localhost:8080/",
          "height": 35
        },
        "id": "eC1c0LRkOD7c",
        "outputId": "7511b6dd-0616-412b-fe3d-235bfec946fc"
      },
      "execution_count": 19,
      "outputs": [
        {
          "output_type": "execute_result",
          "data": {
            "text/plain": [
              "'Car horn'"
            ],
            "application/vnd.google.colaboratory.intrinsic+json": {
              "type": "string"
            }
          },
          "metadata": {},
          "execution_count": 19
        }
      ]
    }
  ]
}