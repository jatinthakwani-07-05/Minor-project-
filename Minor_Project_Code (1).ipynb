{
  "nbformat": 4,
  "nbformat_minor": 0,
  "metadata": {
    "colab": {
      "name": "Minor Project Code.ipynb",
      "provenance": [],
      "collapsed_sections": []
    },
    "kernelspec": {
      "name": "python3",
      "display_name": "Python 3"
    },
    "language_info": {
      "name": "python"
    },
    "accelerator": "GPU"
  },
  "cells": [
    {
      "cell_type": "code",
      "metadata": {
        "id": "MhoUPIzQ9-K6",
        "colab": {
          "base_uri": "https://localhost:8080/"
        },
        "outputId": "865f4856-7bc8-4f11-ca63-849ab6a9a24e"
      },
      "source": [
        "!pip install librosa"
      ],
      "execution_count": 1,
      "outputs": [
        {
          "output_type": "stream",
          "name": "stdout",
          "text": [
            "Requirement already satisfied: librosa in /usr/local/lib/python3.7/dist-packages (0.8.1)\n",
            "Requirement already satisfied: scipy>=1.0.0 in /usr/local/lib/python3.7/dist-packages (from librosa) (1.4.1)\n",
            "Requirement already satisfied: numpy>=1.15.0 in /usr/local/lib/python3.7/dist-packages (from librosa) (1.21.5)\n",
            "Requirement already satisfied: resampy>=0.2.2 in /usr/local/lib/python3.7/dist-packages (from librosa) (0.2.2)\n",
            "Requirement already satisfied: numba>=0.43.0 in /usr/local/lib/python3.7/dist-packages (from librosa) (0.51.2)\n",
            "Requirement already satisfied: audioread>=2.0.0 in /usr/local/lib/python3.7/dist-packages (from librosa) (2.1.9)\n",
            "Requirement already satisfied: soundfile>=0.10.2 in /usr/local/lib/python3.7/dist-packages (from librosa) (0.10.3.post1)\n",
            "Requirement already satisfied: packaging>=20.0 in /usr/local/lib/python3.7/dist-packages (from librosa) (21.3)\n",
            "Requirement already satisfied: decorator>=3.0.0 in /usr/local/lib/python3.7/dist-packages (from librosa) (4.4.2)\n",
            "Requirement already satisfied: joblib>=0.14 in /usr/local/lib/python3.7/dist-packages (from librosa) (1.1.0)\n",
            "Requirement already satisfied: scikit-learn!=0.19.0,>=0.14.0 in /usr/local/lib/python3.7/dist-packages (from librosa) (1.0.2)\n",
            "Requirement already satisfied: pooch>=1.0 in /usr/local/lib/python3.7/dist-packages (from librosa) (1.6.0)\n",
            "Requirement already satisfied: setuptools in /usr/local/lib/python3.7/dist-packages (from numba>=0.43.0->librosa) (57.4.0)\n",
            "Requirement already satisfied: llvmlite<0.35,>=0.34.0.dev0 in /usr/local/lib/python3.7/dist-packages (from numba>=0.43.0->librosa) (0.34.0)\n",
            "Requirement already satisfied: pyparsing!=3.0.5,>=2.0.2 in /usr/local/lib/python3.7/dist-packages (from packaging>=20.0->librosa) (3.0.7)\n",
            "Requirement already satisfied: appdirs>=1.3.0 in /usr/local/lib/python3.7/dist-packages (from pooch>=1.0->librosa) (1.4.4)\n",
            "Requirement already satisfied: requests>=2.19.0 in /usr/local/lib/python3.7/dist-packages (from pooch>=1.0->librosa) (2.23.0)\n",
            "Requirement already satisfied: urllib3!=1.25.0,!=1.25.1,<1.26,>=1.21.1 in /usr/local/lib/python3.7/dist-packages (from requests>=2.19.0->pooch>=1.0->librosa) (1.24.3)\n",
            "Requirement already satisfied: certifi>=2017.4.17 in /usr/local/lib/python3.7/dist-packages (from requests>=2.19.0->pooch>=1.0->librosa) (2021.10.8)\n",
            "Requirement already satisfied: idna<3,>=2.5 in /usr/local/lib/python3.7/dist-packages (from requests>=2.19.0->pooch>=1.0->librosa) (2.10)\n",
            "Requirement already satisfied: chardet<4,>=3.0.2 in /usr/local/lib/python3.7/dist-packages (from requests>=2.19.0->pooch>=1.0->librosa) (3.0.4)\n",
            "Requirement already satisfied: six>=1.3 in /usr/local/lib/python3.7/dist-packages (from resampy>=0.2.2->librosa) (1.15.0)\n",
            "Requirement already satisfied: threadpoolctl>=2.0.0 in /usr/local/lib/python3.7/dist-packages (from scikit-learn!=0.19.0,>=0.14.0->librosa) (3.1.0)\n",
            "Requirement already satisfied: cffi>=1.0 in /usr/local/lib/python3.7/dist-packages (from soundfile>=0.10.2->librosa) (1.15.0)\n",
            "Requirement already satisfied: pycparser in /usr/local/lib/python3.7/dist-packages (from cffi>=1.0->soundfile>=0.10.2->librosa) (2.21)\n"
          ]
        }
      ]
    },
    {
      "cell_type": "code",
      "metadata": {
        "id": "2bVcZ0EU_LoE"
      },
      "source": [
        "import matplotlib.pyplot as plt\n",
        "%matplotlib inline"
      ],
      "execution_count": 4,
      "outputs": []
    },
    {
      "cell_type": "code",
      "metadata": {
        "id": "T7g6sUQr_mkj"
      },
      "source": [
        "import librosa\n",
        "import librosa.display\n",
        "import IPython.display as ipd"
      ],
      "execution_count": 5,
      "outputs": []
    },
    {
      "cell_type": "code",
      "metadata": {
        "id": "47Av3MQEC4zR",
        "colab": {
          "base_uri": "https://localhost:8080/"
        },
        "outputId": "cbebbe2e-4d72-40d1-c56d-bd647cdff370"
      },
      "source": [
        "import pandas as pd\n",
        "import numpy as np\n",
        "from tqdm import tqdm\n",
        "\n",
        "metadata = pd.read_csv(\"/content/drive/MyDrive/Minor Project/UrbanSound8K/metadata/UrbanSound8K.csv\")\n",
        "print(metadata)"
      ],
      "execution_count": 7,
      "outputs": [
        {
          "output_type": "stream",
          "name": "stdout",
          "text": [
            "         slice_file_name    fsID       start         end  salience  fold  \\\n",
            "0       100032-3-0-0.wav  100032    0.000000    0.317551         1     5   \n",
            "1     100263-2-0-117.wav  100263   58.500000   62.500000         1     5   \n",
            "2     100263-2-0-121.wav  100263   60.500000   64.500000         1     5   \n",
            "3     100263-2-0-126.wav  100263   63.000000   67.000000         1     5   \n",
            "4     100263-2-0-137.wav  100263   68.500000   72.500000         1     5   \n",
            "...                  ...     ...         ...         ...       ...   ...   \n",
            "8727     99812-1-2-0.wav   99812  159.522205  163.522205         2     7   \n",
            "8728     99812-1-3-0.wav   99812  181.142431  183.284976         2     7   \n",
            "8729     99812-1-4-0.wav   99812  242.691902  246.197885         2     7   \n",
            "8730     99812-1-5-0.wav   99812  253.209850  255.741948         2     7   \n",
            "8731     99812-1-6-0.wav   99812  332.289233  334.821332         2     7   \n",
            "\n",
            "      classID             class  \n",
            "0           3          dog_bark  \n",
            "1           2  children_playing  \n",
            "2           2  children_playing  \n",
            "3           2  children_playing  \n",
            "4           2  children_playing  \n",
            "...       ...               ...  \n",
            "8727        1          car_horn  \n",
            "8728        1          car_horn  \n",
            "8729        1          car_horn  \n",
            "8730        1          car_horn  \n",
            "8731        1          car_horn  \n",
            "\n",
            "[8732 rows x 8 columns]\n"
          ]
        }
      ]
    },
    {
      "cell_type": "code",
      "metadata": {
        "id": "6EKRFrGoIKgm"
      },
      "source": [
        "\n",
        "def features_extractor(file):\n",
        "  data,sr = librosa.load(filename , res_type='kaiser_fast')\n",
        "  mfccs_features = librosa.feature.mfcc(y = data , sr=sr , n_mfcc=40)\n",
        "  mfccs_scaled_features = np.mean(mfccs_features.T,axis=0)\n",
        "  return mfccs_scaled_features\n",
        "\n"
      ],
      "execution_count": 8,
      "outputs": []
    },
    {
      "cell_type": "code",
      "metadata": {
        "id": "Gus1sM67KkyO"
      },
      "source": [
        "import numpy as np \n",
        "import os as os\n",
        "from tqdm import tqdm\n",
        "extracted_features = []\n",
        "for index_num,row in tqdm(metadata.iterrows()):\n",
        "  filename = os.path.join(os.path.abspath(\"/content/drive/MyDrive/Minor Project/UrbanSound8K/audio/\"),'fold'+str(row[\"fold\"])+'/',str(row[\"slice_file_name\"]))\n",
        "  final_class_labels= row[\"class\"]\n",
        "  data=features_extractor(filename)\n",
        "  extracted_features.append([data,final_class_labels])\n",
        "\n"
      ],
      "execution_count": null,
      "outputs": []
    },
    {
      "cell_type": "code",
      "metadata": {
        "id": "MBdAeATLNnRr"
      },
      "source": [
        "Data = pd.DataFrame(extracted_features,columns=[\"Features\",\"Class\"])\n",
        "Features = np.array(Data[\"Features\"].tolist())\n",
        "\n",
        "Class = np.array(Data[\"Class\"].tolist())\n",
        "print(Features)\n",
        "\n",
        "print(Class)"
      ],
      "execution_count": null,
      "outputs": []
    },
    {
      "cell_type": "code",
      "metadata": {
        "id": "nM-uVZCuN0ya"
      },
      "source": [
        "Class_ = pd.get_dummies(Class)"
      ],
      "execution_count": null,
      "outputs": []
    },
    {
      "cell_type": "code",
      "metadata": {
        "id": "Xk_KUweEN3fp"
      },
      "source": [
        "from sklearn.model_selection import train_test_split\n",
        "X_train,X_test,y_train,y_test = train_test_split(Features,Class_,train_size=0.2,random_state=0)"
      ],
      "execution_count": null,
      "outputs": []
    },
    {
      "cell_type": "code",
      "source": [
        "import tensorflow as tf \n",
        "from tensorflow import keras\n",
        "from tensorflow.keras.models import Sequential\n",
        "from tensorflow.keras.layers import Dense,Dropout,Activation,Flatten\n",
        "from tensorflow.keras.optimizers import Adam\n",
        "from sklearn import metrics"
      ],
      "metadata": {
        "id": "vv3zXYs8OotR"
      },
      "execution_count": 15,
      "outputs": []
    },
    {
      "cell_type": "code",
      "source": [
        "!pip install keras-tuner"
      ],
      "metadata": {
        "id": "ivSZwVNUzHrM"
      },
      "execution_count": null,
      "outputs": []
    },
    {
      "cell_type": "code",
      "source": [
        "Model =tf.keras.models.load_model(\"/content/drive/MyDrive/Minor Project/Saved Model\")"
      ],
      "metadata": {
        "id": "QFOkDiuMg6jh"
      },
      "execution_count": 16,
      "outputs": []
    },
    {
      "cell_type": "code",
      "source": [
        "model = Sequential()\n",
        "model.add(Dense(100,input_shape=(40,)))\n",
        "model.add(Activation('relu'))\n",
        "model.add(Dropout(0.5))\n",
        "\n",
        "model.add(Dense(200))\n",
        "model.add(Activation('relu'))\n",
        "model.add(Dropout(0.5))\n",
        "\n",
        "model.add(Dense(100))\n",
        "model.add(Activation('relu'))\n",
        "model.add(Dropout(0.5))\n",
        "\n",
        "model.add(Dense(10))\n",
        "model.add(Activation('softmax'))"
      ],
      "metadata": {
        "id": "ez2w8-MLP8wQ"
      },
      "execution_count": null,
      "outputs": []
    },
    {
      "cell_type": "code",
      "source": [
        "Model.summary()"
      ],
      "metadata": {
        "colab": {
          "base_uri": "https://localhost:8080/"
        },
        "id": "h_ZDcU_uRHVj",
        "outputId": "f860c253-0420-4ea5-c381-864d0a06d0b7"
      },
      "execution_count": null,
      "outputs": [
        {
          "output_type": "stream",
          "name": "stdout",
          "text": [
            "Model: \"sequential_2\"\n",
            "_________________________________________________________________\n",
            " Layer (type)                Output Shape              Param #   \n",
            "=================================================================\n",
            " dense_8 (Dense)             (None, 100)               4100      \n",
            "                                                                 \n",
            " activation_8 (Activation)   (None, 100)               0         \n",
            "                                                                 \n",
            " dropout_6 (Dropout)         (None, 100)               0         \n",
            "                                                                 \n",
            " dense_9 (Dense)             (None, 200)               20200     \n",
            "                                                                 \n",
            " activation_9 (Activation)   (None, 200)               0         \n",
            "                                                                 \n",
            " dropout_7 (Dropout)         (None, 200)               0         \n",
            "                                                                 \n",
            " dense_10 (Dense)            (None, 100)               20100     \n",
            "                                                                 \n",
            " activation_10 (Activation)  (None, 100)               0         \n",
            "                                                                 \n",
            " dropout_8 (Dropout)         (None, 100)               0         \n",
            "                                                                 \n",
            " dense_11 (Dense)            (None, 10)                1010      \n",
            "                                                                 \n",
            " activation_11 (Activation)  (None, 10)                0         \n",
            "                                                                 \n",
            "=================================================================\n",
            "Total params: 45,410\n",
            "Trainable params: 45,410\n",
            "Non-trainable params: 0\n",
            "_________________________________________________________________\n"
          ]
        }
      ]
    },
    {
      "cell_type": "code",
      "source": [
        "model.compile(loss='categorical_crossentropy',metrics=['accuracy'],optimizer='adam')\n",
        "## Trianing my model\n",
        "from tensorflow.keras.callbacks import ModelCheckpoint\n",
        "from datetime import datetime \n",
        "\n",
        "num_epochs = 110\n",
        "num_batch_size = 16\n",
        "\n",
        "checkpointer = ModelCheckpoint(filepath='saved_models/audio_classification.hdf5', \n",
        "                               verbose=1, save_best_only=True)\n",
        "start = datetime.now()\n",
        "\n",
        "model.fit(X_train, y_train, batch_size=num_batch_size, epochs=num_epochs, validation_data=(X_test, y_test), callbacks=[checkpointer], verbose=1)\n",
        "\n",
        "\n",
        "duration = datetime.now() - start\n",
        "print(\"Training completed in time: \", duration)"
      ],
      "metadata": {
        "id": "dpEQ5edxRJtu"
      },
      "execution_count": null,
      "outputs": []
    },
    {
      "cell_type": "code",
      "source": [
        "test_accuracy=model.evaluate(X_test,y_test,verbose=0)\n",
        "print(test_accuracy[1])"
      ],
      "metadata": {
        "colab": {
          "base_uri": "https://localhost:8080/"
        },
        "id": "OzH3eZYSSKzK",
        "outputId": "55856087-1bb8-44de-e3b5-3c3b743ecd0f"
      },
      "execution_count": null,
      "outputs": [
        {
          "output_type": "stream",
          "name": "stdout",
          "text": [
            "0.7409104108810425\n"
          ]
        }
      ]
    },
    {
      "cell_type": "code",
      "source": [
        "model.save(\"/content/drive/MyDrive/Minor Project/Saved Model/\")"
      ],
      "metadata": {
        "id": "9RYjQasqSL1h"
      },
      "execution_count": null,
      "outputs": []
    },
    {
      "cell_type": "markdown",
      "source": [
        "Model Saved Using Pickle"
      ],
      "metadata": {
        "id": "w0vc8kgbTGkd"
      }
    },
    {
      "cell_type": "code",
      "source": [
        "import pickle\n",
        "pickle.dump(Model,open(\"model.pkl\",\"wb\"))"
      ],
      "metadata": {
        "id": "7jTBlTNNTL4D"
      },
      "execution_count": null,
      "outputs": []
    },
    {
      "cell_type": "code",
      "source": [
        "model.save(\"C:\\Users\\Anonymous\\Documents\")"
      ],
      "metadata": {
        "id": "yRA-8bGEzU89"
      },
      "execution_count": null,
      "outputs": []
    },
    {
      "cell_type": "code",
      "source": [
        "classes = {1:\"Car horn\",2:\"Children Playing\",3:\"Dog Bark\",4 : \"drilling\",5 : \"engine_idling\",6 : \"gun_shot\",7 :\"jackhammer\",8:\"siren\",9 : \"street_music\"}\n",
        "\n",
        "def Predict_classes(filename):\n",
        "  classes = {1:\"Car horn\",2:\"Children Playing\",3:\"Dog Bark\",4 : \"drilling\",5 : \"engine_idling\",6 : \"gun_shot\",7 :\"jackhammer\",8:\"siren\",9 : \"street_music\"}\n",
        "  prediction_feature=features_extractor(filename)\n",
        "  prediction_feature =prediction_feature.reshape(1,-1)\n",
        "  prediction = Model.predict(prediction_feature)\n",
        "  class_ =np.where(prediction == np.max(prediction))[1]\n",
        "  return classes[int(class_)]\n"
      ],
      "metadata": {
        "id": "f4Itmo6yfrV1"
      },
      "execution_count": 99,
      "outputs": []
    },
    {
      "cell_type": "code",
      "source": [
        "filename=\"/content/drive/MyDrive/Minor Project/UrbanSound8K/audio/fold7/99812-1-6-0.wav\"\n",
        "Predict_classes(filename)"
      ],
      "metadata": {
        "colab": {
          "base_uri": "https://localhost:8080/",
          "height": 35
        },
        "id": "dnm82GJv-WJA",
        "outputId": "3a57ce6c-feb7-459f-c5a6-7b7f04f7bb03"
      },
      "execution_count": 100,
      "outputs": [
        {
          "output_type": "execute_result",
          "data": {
            "text/plain": [
              "'Car horn'"
            ],
            "application/vnd.google.colaboratory.intrinsic+json": {
              "type": "string"
            }
          },
          "metadata": {},
          "execution_count": 100
        }
      ]
    },
    {
      "cell_type": "code",
      "source": [
        ""
      ],
      "metadata": {
        "id": "t2TfngEwHSqg"
      },
      "execution_count": null,
      "outputs": []
    }
  ]
}